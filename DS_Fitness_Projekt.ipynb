{
  "nbformat": 4,
  "nbformat_minor": 0,
  "metadata": {
    "colab": {
      "provenance": []
    },
    "kernelspec": {
      "name": "python3",
      "display_name": "Python 3"
    },
    "language_info": {
      "name": "python"
    }
  },
  "cells": [
    {
      "cell_type": "markdown",
      "source": [
        "Importieren erforderlicher Bibliotheken"
      ],
      "metadata": {
        "id": "ac_YsSuajKQt"
      }
    },
    {
      "cell_type": "code",
      "source": [
        "import numpy as np\n",
        "import pandas as pd\n",
        "import matplotlib.pyplot as plt\n",
        "import seaborn as sns\n",
        "\n",
        "pd.set_option('display.max.rows',130)\n",
        "pd.set_option('display.max.columns',130)\n",
        "pd.set_option('float_format', '{:.2f}'.format)"
      ],
      "metadata": {
        "execution": {
          "iopub.status.busy": "2021-07-13T08:25:13.705053Z",
          "iopub.execute_input": "2021-07-13T08:25:13.705346Z",
          "iopub.status.idle": "2021-07-13T08:25:14.62265Z",
          "shell.execute_reply.started": "2021-07-13T08:25:13.705321Z",
          "shell.execute_reply": "2021-07-13T08:25:14.622037Z"
        },
        "trusted": true,
        "id": "EFrTCGKmJHO1"
      },
      "execution_count": 31,
      "outputs": []
    },
    {
      "cell_type": "markdown",
      "source": [
        "Datenimport"
      ],
      "metadata": {
        "id": "4-aKP6FHjlnn"
      }
    },
    {
      "cell_type": "code",
      "source": [
        "from google.colab import auth # Wenn es Probleme mit Authentiction gibt\n",
        "auth.authenticate_user()"
      ],
      "metadata": {
        "id": "3Jba_kEciRtq"
      },
      "execution_count": 32,
      "outputs": []
    },
    {
      "cell_type": "code",
      "source": [
        "from google.colab import drive #Wir betten unsere Google Drive ein\n",
        "drive.mount('/content/drive')"
      ],
      "metadata": {
        "id": "UPDUbZtYW8S5",
        "colab": {
          "base_uri": "https://localhost:8080/"
        },
        "outputId": "c12eae0d-1d6c-4ca9-f657-768fe3031b74"
      },
      "execution_count": 33,
      "outputs": [
        {
          "output_type": "stream",
          "name": "stdout",
          "text": [
            "Drive already mounted at /content/drive; to attempt to forcibly remount, call drive.mount(\"/content/drive\", force_remount=True).\n"
          ]
        }
      ]
    },
    {
      "cell_type": "code",
      "source": [
        "!dir 'drive/MyDrive/Colab Notebooks' # Wo gibt es unsere Files"
      ],
      "metadata": {
        "colab": {
          "base_uri": "https://localhost:8080/"
        },
        "id": "BttFPkozglaQ",
        "outputId": "83723c90-e85c-4ec8-8bb7-7229374de299"
      },
      "execution_count": 34,
      "outputs": [
        {
          "output_type": "stream",
          "name": "stdout",
          "text": [
            "DS\\ Fitness\\ Projekt.ipynb  Steps.csv\n"
          ]
        }
      ]
    },
    {
      "cell_type": "code",
      "source": [
        "df = pd.read_csv(\"drive/MyDrive/Colab Notebooks/Steps.csv\") #Auslesen der Daten"
      ],
      "metadata": {
        "id": "_hZqTtsWlE05"
      },
      "execution_count": 35,
      "outputs": []
    },
    {
      "cell_type": "code",
      "source": [
        "df.head() # Übersicht über mehrere Datensätze aus einem Datenframe"
      ],
      "metadata": {
        "colab": {
          "base_uri": "https://localhost:8080/",
          "height": 206
        },
        "id": "T7wE7LyulR3A",
        "outputId": "5f7af329-efff-4c55-8267-0bdd78ae0241"
      },
      "execution_count": 36,
      "outputs": [
        {
          "output_type": "execute_result",
          "data": {
            "text/plain": [
              "        Date  Step Count Distance Travelled Active Time  Flights Climbed  \\\n",
              "0  3/17/2021        1500            1.02 km   23:14 min                3   \n",
              "1  3/18/2021        3165            2.23 km   44:56 min                2   \n",
              "2  3/19/2021        1494            1.08 km   24:51 min                0   \n",
              "3  3/20/2021        1808            1.27 km   30:04 min                1   \n",
              "4  3/21/2021        2667            1.78 km   30:57 min                3   \n",
              "\n",
              "    Goal Percentage of Goal Completed  Calories  \n",
              "0  10000                          15%        64  \n",
              "1  10000                          32%       134  \n",
              "2  10000                          15%        68  \n",
              "3  10000                          18%        81  \n",
              "4  10000                          27%       103  "
            ],
            "text/html": [
              "\n",
              "  <div id=\"df-08924cc3-1b33-47d7-8fa0-342bead4d1e9\" class=\"colab-df-container\">\n",
              "    <div>\n",
              "<style scoped>\n",
              "    .dataframe tbody tr th:only-of-type {\n",
              "        vertical-align: middle;\n",
              "    }\n",
              "\n",
              "    .dataframe tbody tr th {\n",
              "        vertical-align: top;\n",
              "    }\n",
              "\n",
              "    .dataframe thead th {\n",
              "        text-align: right;\n",
              "    }\n",
              "</style>\n",
              "<table border=\"1\" class=\"dataframe\">\n",
              "  <thead>\n",
              "    <tr style=\"text-align: right;\">\n",
              "      <th></th>\n",
              "      <th>Date</th>\n",
              "      <th>Step Count</th>\n",
              "      <th>Distance Travelled</th>\n",
              "      <th>Active Time</th>\n",
              "      <th>Flights Climbed</th>\n",
              "      <th>Goal</th>\n",
              "      <th>Percentage of Goal Completed</th>\n",
              "      <th>Calories</th>\n",
              "    </tr>\n",
              "  </thead>\n",
              "  <tbody>\n",
              "    <tr>\n",
              "      <th>0</th>\n",
              "      <td>3/17/2021</td>\n",
              "      <td>1500</td>\n",
              "      <td>1.02 km</td>\n",
              "      <td>23:14 min</td>\n",
              "      <td>3</td>\n",
              "      <td>10000</td>\n",
              "      <td>15%</td>\n",
              "      <td>64</td>\n",
              "    </tr>\n",
              "    <tr>\n",
              "      <th>1</th>\n",
              "      <td>3/18/2021</td>\n",
              "      <td>3165</td>\n",
              "      <td>2.23 km</td>\n",
              "      <td>44:56 min</td>\n",
              "      <td>2</td>\n",
              "      <td>10000</td>\n",
              "      <td>32%</td>\n",
              "      <td>134</td>\n",
              "    </tr>\n",
              "    <tr>\n",
              "      <th>2</th>\n",
              "      <td>3/19/2021</td>\n",
              "      <td>1494</td>\n",
              "      <td>1.08 km</td>\n",
              "      <td>24:51 min</td>\n",
              "      <td>0</td>\n",
              "      <td>10000</td>\n",
              "      <td>15%</td>\n",
              "      <td>68</td>\n",
              "    </tr>\n",
              "    <tr>\n",
              "      <th>3</th>\n",
              "      <td>3/20/2021</td>\n",
              "      <td>1808</td>\n",
              "      <td>1.27 km</td>\n",
              "      <td>30:04 min</td>\n",
              "      <td>1</td>\n",
              "      <td>10000</td>\n",
              "      <td>18%</td>\n",
              "      <td>81</td>\n",
              "    </tr>\n",
              "    <tr>\n",
              "      <th>4</th>\n",
              "      <td>3/21/2021</td>\n",
              "      <td>2667</td>\n",
              "      <td>1.78 km</td>\n",
              "      <td>30:57 min</td>\n",
              "      <td>3</td>\n",
              "      <td>10000</td>\n",
              "      <td>27%</td>\n",
              "      <td>103</td>\n",
              "    </tr>\n",
              "  </tbody>\n",
              "</table>\n",
              "</div>\n",
              "    <div class=\"colab-df-buttons\">\n",
              "\n",
              "  <div class=\"colab-df-container\">\n",
              "    <button class=\"colab-df-convert\" onclick=\"convertToInteractive('df-08924cc3-1b33-47d7-8fa0-342bead4d1e9')\"\n",
              "            title=\"Convert this dataframe to an interactive table.\"\n",
              "            style=\"display:none;\">\n",
              "\n",
              "  <svg xmlns=\"http://www.w3.org/2000/svg\" height=\"24px\" viewBox=\"0 -960 960 960\">\n",
              "    <path d=\"M120-120v-720h720v720H120Zm60-500h600v-160H180v160Zm220 220h160v-160H400v160Zm0 220h160v-160H400v160ZM180-400h160v-160H180v160Zm440 0h160v-160H620v160ZM180-180h160v-160H180v160Zm440 0h160v-160H620v160Z\"/>\n",
              "  </svg>\n",
              "    </button>\n",
              "\n",
              "  <style>\n",
              "    .colab-df-container {\n",
              "      display:flex;\n",
              "      gap: 12px;\n",
              "    }\n",
              "\n",
              "    .colab-df-convert {\n",
              "      background-color: #E8F0FE;\n",
              "      border: none;\n",
              "      border-radius: 50%;\n",
              "      cursor: pointer;\n",
              "      display: none;\n",
              "      fill: #1967D2;\n",
              "      height: 32px;\n",
              "      padding: 0 0 0 0;\n",
              "      width: 32px;\n",
              "    }\n",
              "\n",
              "    .colab-df-convert:hover {\n",
              "      background-color: #E2EBFA;\n",
              "      box-shadow: 0px 1px 2px rgba(60, 64, 67, 0.3), 0px 1px 3px 1px rgba(60, 64, 67, 0.15);\n",
              "      fill: #174EA6;\n",
              "    }\n",
              "\n",
              "    .colab-df-buttons div {\n",
              "      margin-bottom: 4px;\n",
              "    }\n",
              "\n",
              "    [theme=dark] .colab-df-convert {\n",
              "      background-color: #3B4455;\n",
              "      fill: #D2E3FC;\n",
              "    }\n",
              "\n",
              "    [theme=dark] .colab-df-convert:hover {\n",
              "      background-color: #434B5C;\n",
              "      box-shadow: 0px 1px 3px 1px rgba(0, 0, 0, 0.15);\n",
              "      filter: drop-shadow(0px 1px 2px rgba(0, 0, 0, 0.3));\n",
              "      fill: #FFFFFF;\n",
              "    }\n",
              "  </style>\n",
              "\n",
              "    <script>\n",
              "      const buttonEl =\n",
              "        document.querySelector('#df-08924cc3-1b33-47d7-8fa0-342bead4d1e9 button.colab-df-convert');\n",
              "      buttonEl.style.display =\n",
              "        google.colab.kernel.accessAllowed ? 'block' : 'none';\n",
              "\n",
              "      async function convertToInteractive(key) {\n",
              "        const element = document.querySelector('#df-08924cc3-1b33-47d7-8fa0-342bead4d1e9');\n",
              "        const dataTable =\n",
              "          await google.colab.kernel.invokeFunction('convertToInteractive',\n",
              "                                                    [key], {});\n",
              "        if (!dataTable) return;\n",
              "\n",
              "        const docLinkHtml = 'Like what you see? Visit the ' +\n",
              "          '<a target=\"_blank\" href=https://colab.research.google.com/notebooks/data_table.ipynb>data table notebook</a>'\n",
              "          + ' to learn more about interactive tables.';\n",
              "        element.innerHTML = '';\n",
              "        dataTable['output_type'] = 'display_data';\n",
              "        await google.colab.output.renderOutput(dataTable, element);\n",
              "        const docLink = document.createElement('div');\n",
              "        docLink.innerHTML = docLinkHtml;\n",
              "        element.appendChild(docLink);\n",
              "      }\n",
              "    </script>\n",
              "  </div>\n",
              "\n",
              "\n",
              "<div id=\"df-e756f9cc-5a9b-4b96-95e5-8397f06cd042\">\n",
              "  <button class=\"colab-df-quickchart\" onclick=\"quickchart('df-e756f9cc-5a9b-4b96-95e5-8397f06cd042')\"\n",
              "            title=\"Suggest charts\"\n",
              "            style=\"display:none;\">\n",
              "\n",
              "<svg xmlns=\"http://www.w3.org/2000/svg\" height=\"24px\"viewBox=\"0 0 24 24\"\n",
              "     width=\"24px\">\n",
              "    <g>\n",
              "        <path d=\"M19 3H5c-1.1 0-2 .9-2 2v14c0 1.1.9 2 2 2h14c1.1 0 2-.9 2-2V5c0-1.1-.9-2-2-2zM9 17H7v-7h2v7zm4 0h-2V7h2v10zm4 0h-2v-4h2v4z\"/>\n",
              "    </g>\n",
              "</svg>\n",
              "  </button>\n",
              "\n",
              "<style>\n",
              "  .colab-df-quickchart {\n",
              "      --bg-color: #E8F0FE;\n",
              "      --fill-color: #1967D2;\n",
              "      --hover-bg-color: #E2EBFA;\n",
              "      --hover-fill-color: #174EA6;\n",
              "      --disabled-fill-color: #AAA;\n",
              "      --disabled-bg-color: #DDD;\n",
              "  }\n",
              "\n",
              "  [theme=dark] .colab-df-quickchart {\n",
              "      --bg-color: #3B4455;\n",
              "      --fill-color: #D2E3FC;\n",
              "      --hover-bg-color: #434B5C;\n",
              "      --hover-fill-color: #FFFFFF;\n",
              "      --disabled-bg-color: #3B4455;\n",
              "      --disabled-fill-color: #666;\n",
              "  }\n",
              "\n",
              "  .colab-df-quickchart {\n",
              "    background-color: var(--bg-color);\n",
              "    border: none;\n",
              "    border-radius: 50%;\n",
              "    cursor: pointer;\n",
              "    display: none;\n",
              "    fill: var(--fill-color);\n",
              "    height: 32px;\n",
              "    padding: 0;\n",
              "    width: 32px;\n",
              "  }\n",
              "\n",
              "  .colab-df-quickchart:hover {\n",
              "    background-color: var(--hover-bg-color);\n",
              "    box-shadow: 0 1px 2px rgba(60, 64, 67, 0.3), 0 1px 3px 1px rgba(60, 64, 67, 0.15);\n",
              "    fill: var(--button-hover-fill-color);\n",
              "  }\n",
              "\n",
              "  .colab-df-quickchart-complete:disabled,\n",
              "  .colab-df-quickchart-complete:disabled:hover {\n",
              "    background-color: var(--disabled-bg-color);\n",
              "    fill: var(--disabled-fill-color);\n",
              "    box-shadow: none;\n",
              "  }\n",
              "\n",
              "  .colab-df-spinner {\n",
              "    border: 2px solid var(--fill-color);\n",
              "    border-color: transparent;\n",
              "    border-bottom-color: var(--fill-color);\n",
              "    animation:\n",
              "      spin 1s steps(1) infinite;\n",
              "  }\n",
              "\n",
              "  @keyframes spin {\n",
              "    0% {\n",
              "      border-color: transparent;\n",
              "      border-bottom-color: var(--fill-color);\n",
              "      border-left-color: var(--fill-color);\n",
              "    }\n",
              "    20% {\n",
              "      border-color: transparent;\n",
              "      border-left-color: var(--fill-color);\n",
              "      border-top-color: var(--fill-color);\n",
              "    }\n",
              "    30% {\n",
              "      border-color: transparent;\n",
              "      border-left-color: var(--fill-color);\n",
              "      border-top-color: var(--fill-color);\n",
              "      border-right-color: var(--fill-color);\n",
              "    }\n",
              "    40% {\n",
              "      border-color: transparent;\n",
              "      border-right-color: var(--fill-color);\n",
              "      border-top-color: var(--fill-color);\n",
              "    }\n",
              "    60% {\n",
              "      border-color: transparent;\n",
              "      border-right-color: var(--fill-color);\n",
              "    }\n",
              "    80% {\n",
              "      border-color: transparent;\n",
              "      border-right-color: var(--fill-color);\n",
              "      border-bottom-color: var(--fill-color);\n",
              "    }\n",
              "    90% {\n",
              "      border-color: transparent;\n",
              "      border-bottom-color: var(--fill-color);\n",
              "    }\n",
              "  }\n",
              "</style>\n",
              "\n",
              "  <script>\n",
              "    async function quickchart(key) {\n",
              "      const quickchartButtonEl =\n",
              "        document.querySelector('#' + key + ' button');\n",
              "      quickchartButtonEl.disabled = true;  // To prevent multiple clicks.\n",
              "      quickchartButtonEl.classList.add('colab-df-spinner');\n",
              "      try {\n",
              "        const charts = await google.colab.kernel.invokeFunction(\n",
              "            'suggestCharts', [key], {});\n",
              "      } catch (error) {\n",
              "        console.error('Error during call to suggestCharts:', error);\n",
              "      }\n",
              "      quickchartButtonEl.classList.remove('colab-df-spinner');\n",
              "      quickchartButtonEl.classList.add('colab-df-quickchart-complete');\n",
              "    }\n",
              "    (() => {\n",
              "      let quickchartButtonEl =\n",
              "        document.querySelector('#df-e756f9cc-5a9b-4b96-95e5-8397f06cd042 button');\n",
              "      quickchartButtonEl.style.display =\n",
              "        google.colab.kernel.accessAllowed ? 'block' : 'none';\n",
              "    })();\n",
              "  </script>\n",
              "</div>\n",
              "\n",
              "    </div>\n",
              "  </div>\n"
            ],
            "application/vnd.google.colaboratory.intrinsic+json": {
              "type": "dataframe",
              "variable_name": "df",
              "summary": "{\n  \"name\": \"df\",\n  \"rows\": 526,\n  \"fields\": [\n    {\n      \"column\": \"Date\",\n      \"properties\": {\n        \"dtype\": \"object\",\n        \"num_unique_values\": 526,\n        \"samples\": [\n          \"2/21/2022\",\n          \"5/18/2022\",\n          \"3/23/2021\"\n        ],\n        \"semantic_type\": \"\",\n        \"description\": \"\"\n      }\n    },\n    {\n      \"column\": \"Step Count\",\n      \"properties\": {\n        \"dtype\": \"number\",\n        \"std\": 2680,\n        \"min\": 0,\n        \"max\": 12432,\n        \"num_unique_values\": 503,\n        \"samples\": [\n          2379,\n          1951,\n          2021\n        ],\n        \"semantic_type\": \"\",\n        \"description\": \"\"\n      }\n    },\n    {\n      \"column\": \"Distance Travelled\",\n      \"properties\": {\n        \"dtype\": \"string\",\n        \"num_unique_values\": 327,\n        \"samples\": [\n          \"0.28 km\",\n          \"1.18 km\",\n          \"1.42 km\"\n        ],\n        \"semantic_type\": \"\",\n        \"description\": \"\"\n      }\n    },\n    {\n      \"column\": \"Active Time\",\n      \"properties\": {\n        \"dtype\": \"string\",\n        \"num_unique_values\": 426,\n        \"samples\": [\n          \"1:18 hr\",\n          \"1:15 hr\",\n          \"17:24 min\"\n        ],\n        \"semantic_type\": \"\",\n        \"description\": \"\"\n      }\n    },\n    {\n      \"column\": \"Flights Climbed\",\n      \"properties\": {\n        \"dtype\": \"number\",\n        \"std\": 1,\n        \"min\": 0,\n        \"max\": 10,\n        \"num_unique_values\": 11,\n        \"samples\": [\n          7,\n          3,\n          8\n        ],\n        \"semantic_type\": \"\",\n        \"description\": \"\"\n      }\n    },\n    {\n      \"column\": \"Goal\",\n      \"properties\": {\n        \"dtype\": \"number\",\n        \"std\": 2053,\n        \"min\": 3500,\n        \"max\": 10000,\n        \"num_unique_values\": 2,\n        \"samples\": [\n          3500,\n          10000\n        ],\n        \"semantic_type\": \"\",\n        \"description\": \"\"\n      }\n    },\n    {\n      \"column\": \"Percentage of Goal Completed\",\n      \"properties\": {\n        \"dtype\": \"category\",\n        \"num_unique_values\": 210,\n        \"samples\": [\n          \"30%\",\n          \"181%\"\n        ],\n        \"semantic_type\": \"\",\n        \"description\": \"\"\n      }\n    },\n    {\n      \"column\": \"Calories\",\n      \"properties\": {\n        \"dtype\": \"number\",\n        \"std\": 117,\n        \"min\": 0,\n        \"max\": 595,\n        \"num_unique_values\": 272,\n        \"samples\": [\n          32,\n          463\n        ],\n        \"semantic_type\": \"\",\n        \"description\": \"\"\n      }\n    }\n  ]\n}"
            }
          },
          "metadata": {},
          "execution_count": 36
        }
      ]
    },
    {
      "cell_type": "code",
      "source": [
        "df = df.drop(columns=['Flights Climbed', 'Goal', \"Percentage of Goal Completed\"]) # entfernen leerer und nicht nötige Spalten"
      ],
      "metadata": {
        "id": "5YO2IsIyn0RK"
      },
      "execution_count": 37,
      "outputs": []
    },
    {
      "cell_type": "code",
      "source": [
        "print(df.columns) # checken welche Spalten es gibt (um richtige Namen zu schreiben)"
      ],
      "metadata": {
        "colab": {
          "base_uri": "https://localhost:8080/"
        },
        "id": "-4QXqg3MpI1z",
        "outputId": "f8a1d97f-c1f5-472b-f3ff-7701884d5553"
      },
      "execution_count": 38,
      "outputs": [
        {
          "output_type": "stream",
          "name": "stdout",
          "text": [
            "Index(['Date', 'Step Count', 'Distance Travelled', 'Active Time', 'Calories'], dtype='object')\n"
          ]
        }
      ]
    },
    {
      "cell_type": "code",
      "source": [
        "df.head() # checken wie neues Dataframe aussieht"
      ],
      "metadata": {
        "colab": {
          "base_uri": "https://localhost:8080/",
          "height": 206
        },
        "id": "-1O9sOhtpmvg",
        "outputId": "dcffb7a6-c8ea-42e4-91c2-d1cd97e111a1"
      },
      "execution_count": 39,
      "outputs": [
        {
          "output_type": "execute_result",
          "data": {
            "text/plain": [
              "        Date  Step Count Distance Travelled Active Time  Calories\n",
              "0  3/17/2021        1500            1.02 km   23:14 min        64\n",
              "1  3/18/2021        3165            2.23 km   44:56 min       134\n",
              "2  3/19/2021        1494            1.08 km   24:51 min        68\n",
              "3  3/20/2021        1808            1.27 km   30:04 min        81\n",
              "4  3/21/2021        2667            1.78 km   30:57 min       103"
            ],
            "text/html": [
              "\n",
              "  <div id=\"df-a555c8a3-a38c-4fde-a14c-e4f2da2aa9b6\" class=\"colab-df-container\">\n",
              "    <div>\n",
              "<style scoped>\n",
              "    .dataframe tbody tr th:only-of-type {\n",
              "        vertical-align: middle;\n",
              "    }\n",
              "\n",
              "    .dataframe tbody tr th {\n",
              "        vertical-align: top;\n",
              "    }\n",
              "\n",
              "    .dataframe thead th {\n",
              "        text-align: right;\n",
              "    }\n",
              "</style>\n",
              "<table border=\"1\" class=\"dataframe\">\n",
              "  <thead>\n",
              "    <tr style=\"text-align: right;\">\n",
              "      <th></th>\n",
              "      <th>Date</th>\n",
              "      <th>Step Count</th>\n",
              "      <th>Distance Travelled</th>\n",
              "      <th>Active Time</th>\n",
              "      <th>Calories</th>\n",
              "    </tr>\n",
              "  </thead>\n",
              "  <tbody>\n",
              "    <tr>\n",
              "      <th>0</th>\n",
              "      <td>3/17/2021</td>\n",
              "      <td>1500</td>\n",
              "      <td>1.02 km</td>\n",
              "      <td>23:14 min</td>\n",
              "      <td>64</td>\n",
              "    </tr>\n",
              "    <tr>\n",
              "      <th>1</th>\n",
              "      <td>3/18/2021</td>\n",
              "      <td>3165</td>\n",
              "      <td>2.23 km</td>\n",
              "      <td>44:56 min</td>\n",
              "      <td>134</td>\n",
              "    </tr>\n",
              "    <tr>\n",
              "      <th>2</th>\n",
              "      <td>3/19/2021</td>\n",
              "      <td>1494</td>\n",
              "      <td>1.08 km</td>\n",
              "      <td>24:51 min</td>\n",
              "      <td>68</td>\n",
              "    </tr>\n",
              "    <tr>\n",
              "      <th>3</th>\n",
              "      <td>3/20/2021</td>\n",
              "      <td>1808</td>\n",
              "      <td>1.27 km</td>\n",
              "      <td>30:04 min</td>\n",
              "      <td>81</td>\n",
              "    </tr>\n",
              "    <tr>\n",
              "      <th>4</th>\n",
              "      <td>3/21/2021</td>\n",
              "      <td>2667</td>\n",
              "      <td>1.78 km</td>\n",
              "      <td>30:57 min</td>\n",
              "      <td>103</td>\n",
              "    </tr>\n",
              "  </tbody>\n",
              "</table>\n",
              "</div>\n",
              "    <div class=\"colab-df-buttons\">\n",
              "\n",
              "  <div class=\"colab-df-container\">\n",
              "    <button class=\"colab-df-convert\" onclick=\"convertToInteractive('df-a555c8a3-a38c-4fde-a14c-e4f2da2aa9b6')\"\n",
              "            title=\"Convert this dataframe to an interactive table.\"\n",
              "            style=\"display:none;\">\n",
              "\n",
              "  <svg xmlns=\"http://www.w3.org/2000/svg\" height=\"24px\" viewBox=\"0 -960 960 960\">\n",
              "    <path d=\"M120-120v-720h720v720H120Zm60-500h600v-160H180v160Zm220 220h160v-160H400v160Zm0 220h160v-160H400v160ZM180-400h160v-160H180v160Zm440 0h160v-160H620v160ZM180-180h160v-160H180v160Zm440 0h160v-160H620v160Z\"/>\n",
              "  </svg>\n",
              "    </button>\n",
              "\n",
              "  <style>\n",
              "    .colab-df-container {\n",
              "      display:flex;\n",
              "      gap: 12px;\n",
              "    }\n",
              "\n",
              "    .colab-df-convert {\n",
              "      background-color: #E8F0FE;\n",
              "      border: none;\n",
              "      border-radius: 50%;\n",
              "      cursor: pointer;\n",
              "      display: none;\n",
              "      fill: #1967D2;\n",
              "      height: 32px;\n",
              "      padding: 0 0 0 0;\n",
              "      width: 32px;\n",
              "    }\n",
              "\n",
              "    .colab-df-convert:hover {\n",
              "      background-color: #E2EBFA;\n",
              "      box-shadow: 0px 1px 2px rgba(60, 64, 67, 0.3), 0px 1px 3px 1px rgba(60, 64, 67, 0.15);\n",
              "      fill: #174EA6;\n",
              "    }\n",
              "\n",
              "    .colab-df-buttons div {\n",
              "      margin-bottom: 4px;\n",
              "    }\n",
              "\n",
              "    [theme=dark] .colab-df-convert {\n",
              "      background-color: #3B4455;\n",
              "      fill: #D2E3FC;\n",
              "    }\n",
              "\n",
              "    [theme=dark] .colab-df-convert:hover {\n",
              "      background-color: #434B5C;\n",
              "      box-shadow: 0px 1px 3px 1px rgba(0, 0, 0, 0.15);\n",
              "      filter: drop-shadow(0px 1px 2px rgba(0, 0, 0, 0.3));\n",
              "      fill: #FFFFFF;\n",
              "    }\n",
              "  </style>\n",
              "\n",
              "    <script>\n",
              "      const buttonEl =\n",
              "        document.querySelector('#df-a555c8a3-a38c-4fde-a14c-e4f2da2aa9b6 button.colab-df-convert');\n",
              "      buttonEl.style.display =\n",
              "        google.colab.kernel.accessAllowed ? 'block' : 'none';\n",
              "\n",
              "      async function convertToInteractive(key) {\n",
              "        const element = document.querySelector('#df-a555c8a3-a38c-4fde-a14c-e4f2da2aa9b6');\n",
              "        const dataTable =\n",
              "          await google.colab.kernel.invokeFunction('convertToInteractive',\n",
              "                                                    [key], {});\n",
              "        if (!dataTable) return;\n",
              "\n",
              "        const docLinkHtml = 'Like what you see? Visit the ' +\n",
              "          '<a target=\"_blank\" href=https://colab.research.google.com/notebooks/data_table.ipynb>data table notebook</a>'\n",
              "          + ' to learn more about interactive tables.';\n",
              "        element.innerHTML = '';\n",
              "        dataTable['output_type'] = 'display_data';\n",
              "        await google.colab.output.renderOutput(dataTable, element);\n",
              "        const docLink = document.createElement('div');\n",
              "        docLink.innerHTML = docLinkHtml;\n",
              "        element.appendChild(docLink);\n",
              "      }\n",
              "    </script>\n",
              "  </div>\n",
              "\n",
              "\n",
              "<div id=\"df-8a1e270b-ce59-494e-95f9-dbbc8cd462ee\">\n",
              "  <button class=\"colab-df-quickchart\" onclick=\"quickchart('df-8a1e270b-ce59-494e-95f9-dbbc8cd462ee')\"\n",
              "            title=\"Suggest charts\"\n",
              "            style=\"display:none;\">\n",
              "\n",
              "<svg xmlns=\"http://www.w3.org/2000/svg\" height=\"24px\"viewBox=\"0 0 24 24\"\n",
              "     width=\"24px\">\n",
              "    <g>\n",
              "        <path d=\"M19 3H5c-1.1 0-2 .9-2 2v14c0 1.1.9 2 2 2h14c1.1 0 2-.9 2-2V5c0-1.1-.9-2-2-2zM9 17H7v-7h2v7zm4 0h-2V7h2v10zm4 0h-2v-4h2v4z\"/>\n",
              "    </g>\n",
              "</svg>\n",
              "  </button>\n",
              "\n",
              "<style>\n",
              "  .colab-df-quickchart {\n",
              "      --bg-color: #E8F0FE;\n",
              "      --fill-color: #1967D2;\n",
              "      --hover-bg-color: #E2EBFA;\n",
              "      --hover-fill-color: #174EA6;\n",
              "      --disabled-fill-color: #AAA;\n",
              "      --disabled-bg-color: #DDD;\n",
              "  }\n",
              "\n",
              "  [theme=dark] .colab-df-quickchart {\n",
              "      --bg-color: #3B4455;\n",
              "      --fill-color: #D2E3FC;\n",
              "      --hover-bg-color: #434B5C;\n",
              "      --hover-fill-color: #FFFFFF;\n",
              "      --disabled-bg-color: #3B4455;\n",
              "      --disabled-fill-color: #666;\n",
              "  }\n",
              "\n",
              "  .colab-df-quickchart {\n",
              "    background-color: var(--bg-color);\n",
              "    border: none;\n",
              "    border-radius: 50%;\n",
              "    cursor: pointer;\n",
              "    display: none;\n",
              "    fill: var(--fill-color);\n",
              "    height: 32px;\n",
              "    padding: 0;\n",
              "    width: 32px;\n",
              "  }\n",
              "\n",
              "  .colab-df-quickchart:hover {\n",
              "    background-color: var(--hover-bg-color);\n",
              "    box-shadow: 0 1px 2px rgba(60, 64, 67, 0.3), 0 1px 3px 1px rgba(60, 64, 67, 0.15);\n",
              "    fill: var(--button-hover-fill-color);\n",
              "  }\n",
              "\n",
              "  .colab-df-quickchart-complete:disabled,\n",
              "  .colab-df-quickchart-complete:disabled:hover {\n",
              "    background-color: var(--disabled-bg-color);\n",
              "    fill: var(--disabled-fill-color);\n",
              "    box-shadow: none;\n",
              "  }\n",
              "\n",
              "  .colab-df-spinner {\n",
              "    border: 2px solid var(--fill-color);\n",
              "    border-color: transparent;\n",
              "    border-bottom-color: var(--fill-color);\n",
              "    animation:\n",
              "      spin 1s steps(1) infinite;\n",
              "  }\n",
              "\n",
              "  @keyframes spin {\n",
              "    0% {\n",
              "      border-color: transparent;\n",
              "      border-bottom-color: var(--fill-color);\n",
              "      border-left-color: var(--fill-color);\n",
              "    }\n",
              "    20% {\n",
              "      border-color: transparent;\n",
              "      border-left-color: var(--fill-color);\n",
              "      border-top-color: var(--fill-color);\n",
              "    }\n",
              "    30% {\n",
              "      border-color: transparent;\n",
              "      border-left-color: var(--fill-color);\n",
              "      border-top-color: var(--fill-color);\n",
              "      border-right-color: var(--fill-color);\n",
              "    }\n",
              "    40% {\n",
              "      border-color: transparent;\n",
              "      border-right-color: var(--fill-color);\n",
              "      border-top-color: var(--fill-color);\n",
              "    }\n",
              "    60% {\n",
              "      border-color: transparent;\n",
              "      border-right-color: var(--fill-color);\n",
              "    }\n",
              "    80% {\n",
              "      border-color: transparent;\n",
              "      border-right-color: var(--fill-color);\n",
              "      border-bottom-color: var(--fill-color);\n",
              "    }\n",
              "    90% {\n",
              "      border-color: transparent;\n",
              "      border-bottom-color: var(--fill-color);\n",
              "    }\n",
              "  }\n",
              "</style>\n",
              "\n",
              "  <script>\n",
              "    async function quickchart(key) {\n",
              "      const quickchartButtonEl =\n",
              "        document.querySelector('#' + key + ' button');\n",
              "      quickchartButtonEl.disabled = true;  // To prevent multiple clicks.\n",
              "      quickchartButtonEl.classList.add('colab-df-spinner');\n",
              "      try {\n",
              "        const charts = await google.colab.kernel.invokeFunction(\n",
              "            'suggestCharts', [key], {});\n",
              "      } catch (error) {\n",
              "        console.error('Error during call to suggestCharts:', error);\n",
              "      }\n",
              "      quickchartButtonEl.classList.remove('colab-df-spinner');\n",
              "      quickchartButtonEl.classList.add('colab-df-quickchart-complete');\n",
              "    }\n",
              "    (() => {\n",
              "      let quickchartButtonEl =\n",
              "        document.querySelector('#df-8a1e270b-ce59-494e-95f9-dbbc8cd462ee button');\n",
              "      quickchartButtonEl.style.display =\n",
              "        google.colab.kernel.accessAllowed ? 'block' : 'none';\n",
              "    })();\n",
              "  </script>\n",
              "</div>\n",
              "\n",
              "    </div>\n",
              "  </div>\n"
            ],
            "application/vnd.google.colaboratory.intrinsic+json": {
              "type": "dataframe",
              "variable_name": "df",
              "summary": "{\n  \"name\": \"df\",\n  \"rows\": 526,\n  \"fields\": [\n    {\n      \"column\": \"Date\",\n      \"properties\": {\n        \"dtype\": \"object\",\n        \"num_unique_values\": 526,\n        \"samples\": [\n          \"2/21/2022\",\n          \"5/18/2022\",\n          \"3/23/2021\"\n        ],\n        \"semantic_type\": \"\",\n        \"description\": \"\"\n      }\n    },\n    {\n      \"column\": \"Step Count\",\n      \"properties\": {\n        \"dtype\": \"number\",\n        \"std\": 2680,\n        \"min\": 0,\n        \"max\": 12432,\n        \"num_unique_values\": 503,\n        \"samples\": [\n          2379,\n          1951,\n          2021\n        ],\n        \"semantic_type\": \"\",\n        \"description\": \"\"\n      }\n    },\n    {\n      \"column\": \"Distance Travelled\",\n      \"properties\": {\n        \"dtype\": \"string\",\n        \"num_unique_values\": 327,\n        \"samples\": [\n          \"0.28 km\",\n          \"1.18 km\",\n          \"1.42 km\"\n        ],\n        \"semantic_type\": \"\",\n        \"description\": \"\"\n      }\n    },\n    {\n      \"column\": \"Active Time\",\n      \"properties\": {\n        \"dtype\": \"string\",\n        \"num_unique_values\": 426,\n        \"samples\": [\n          \"1:18 hr\",\n          \"1:15 hr\",\n          \"17:24 min\"\n        ],\n        \"semantic_type\": \"\",\n        \"description\": \"\"\n      }\n    },\n    {\n      \"column\": \"Calories\",\n      \"properties\": {\n        \"dtype\": \"number\",\n        \"std\": 117,\n        \"min\": 0,\n        \"max\": 595,\n        \"num_unique_values\": 272,\n        \"samples\": [\n          32,\n          463,\n          198\n        ],\n        \"semantic_type\": \"\",\n        \"description\": \"\"\n      }\n    }\n  ]\n}"
            }
          },
          "metadata": {},
          "execution_count": 39
        }
      ]
    },
    {
      "cell_type": "markdown",
      "source": [
        "Überprüfung der Datenstruktur"
      ],
      "metadata": {
        "id": "1U5YYm5cwIza"
      }
    },
    {
      "cell_type": "code",
      "source": [
        "df.info(verbose = True, show_counts=True) #checken welche Datatypes gibt es in df"
      ],
      "metadata": {
        "execution": {
          "iopub.status.busy": "2021-07-13T08:25:20.238598Z",
          "iopub.execute_input": "2021-07-13T08:25:20.238974Z",
          "iopub.status.idle": "2021-07-13T08:25:20.744842Z",
          "shell.execute_reply.started": "2021-07-13T08:25:20.238946Z",
          "shell.execute_reply": "2021-07-13T08:25:20.743944Z"
        },
        "trusted": true,
        "id": "cGp-gCtuJHO3",
        "colab": {
          "base_uri": "https://localhost:8080/"
        },
        "outputId": "ca855a9f-3b3b-43ba-a936-433cdc6b077b"
      },
      "execution_count": 40,
      "outputs": [
        {
          "output_type": "stream",
          "name": "stdout",
          "text": [
            "<class 'pandas.core.frame.DataFrame'>\n",
            "RangeIndex: 526 entries, 0 to 525\n",
            "Data columns (total 5 columns):\n",
            " #   Column              Non-Null Count  Dtype \n",
            "---  ------              --------------  ----- \n",
            " 0   Date                526 non-null    object\n",
            " 1   Step Count          526 non-null    int64 \n",
            " 2   Distance Travelled  526 non-null    object\n",
            " 3   Active Time         526 non-null    object\n",
            " 4   Calories            526 non-null    int64 \n",
            "dtypes: int64(2), object(3)\n",
            "memory usage: 20.7+ KB\n"
          ]
        }
      ]
    },
    {
      "cell_type": "code",
      "source": [
        "df.shape"
      ],
      "metadata": {
        "colab": {
          "base_uri": "https://localhost:8080/"
        },
        "id": "hVdXdk8f-ORG",
        "outputId": "075ec6f2-5dbd-44b6-e85b-6ed571d7de5c"
      },
      "execution_count": 41,
      "outputs": [
        {
          "output_type": "execute_result",
          "data": {
            "text/plain": [
              "(526, 5)"
            ]
          },
          "metadata": {},
          "execution_count": 41
        }
      ]
    },
    {
      "cell_type": "code",
      "source": [
        "df.value_counts()"
      ],
      "metadata": {
        "colab": {
          "base_uri": "https://localhost:8080/",
          "height": 489
        },
        "id": "okRcGOAF0Og2",
        "outputId": "04480614-1f54-42c3-8760-1b9091df6f80"
      },
      "execution_count": 42,
      "outputs": [
        {
          "output_type": "execute_result",
          "data": {
            "text/plain": [
              "Date       Step Count  Distance Travelled  Active Time  Calories\n",
              "1/1/2022   3119        2.27 km             57:37 min    150         1\n",
              "7/15/2021  145         0.11 km             1:37 hr      172         1\n",
              "7/14/2021  7842        6.19 km             1:19 hr      365         1\n",
              "7/13/2022  96          0.07 km             1:34 min     4           1\n",
              "7/13/2021  22          0.02 km             1:25 hr      151         1\n",
              "                                                                   ..\n",
              "3/25/2021  2566        1.87 km             38:38 min    113         1\n",
              "3/24/2022  2921        2.09 km             48:08 min    132         1\n",
              "3/24/2021  779         0.58 km             13:08 min    36          1\n",
              "3/23/2022  2593        1.81 km             42:31 min    115         1\n",
              "9/9/2022   7182        5.32 km             1:18 hr      307         1\n",
              "Name: count, Length: 526, dtype: int64"
            ],
            "text/html": [
              "<div>\n",
              "<style scoped>\n",
              "    .dataframe tbody tr th:only-of-type {\n",
              "        vertical-align: middle;\n",
              "    }\n",
              "\n",
              "    .dataframe tbody tr th {\n",
              "        vertical-align: top;\n",
              "    }\n",
              "\n",
              "    .dataframe thead th {\n",
              "        text-align: right;\n",
              "    }\n",
              "</style>\n",
              "<table border=\"1\" class=\"dataframe\">\n",
              "  <thead>\n",
              "    <tr style=\"text-align: right;\">\n",
              "      <th></th>\n",
              "      <th></th>\n",
              "      <th></th>\n",
              "      <th></th>\n",
              "      <th></th>\n",
              "      <th>count</th>\n",
              "    </tr>\n",
              "    <tr>\n",
              "      <th>Date</th>\n",
              "      <th>Step Count</th>\n",
              "      <th>Distance Travelled</th>\n",
              "      <th>Active Time</th>\n",
              "      <th>Calories</th>\n",
              "      <th></th>\n",
              "    </tr>\n",
              "  </thead>\n",
              "  <tbody>\n",
              "    <tr>\n",
              "      <th>1/1/2022</th>\n",
              "      <th>3119</th>\n",
              "      <th>2.27 km</th>\n",
              "      <th>57:37 min</th>\n",
              "      <th>150</th>\n",
              "      <td>1</td>\n",
              "    </tr>\n",
              "    <tr>\n",
              "      <th>7/15/2021</th>\n",
              "      <th>145</th>\n",
              "      <th>0.11 km</th>\n",
              "      <th>1:37 hr</th>\n",
              "      <th>172</th>\n",
              "      <td>1</td>\n",
              "    </tr>\n",
              "    <tr>\n",
              "      <th>7/14/2021</th>\n",
              "      <th>7842</th>\n",
              "      <th>6.19 km</th>\n",
              "      <th>1:19 hr</th>\n",
              "      <th>365</th>\n",
              "      <td>1</td>\n",
              "    </tr>\n",
              "    <tr>\n",
              "      <th>7/13/2022</th>\n",
              "      <th>96</th>\n",
              "      <th>0.07 km</th>\n",
              "      <th>1:34 min</th>\n",
              "      <th>4</th>\n",
              "      <td>1</td>\n",
              "    </tr>\n",
              "    <tr>\n",
              "      <th>7/13/2021</th>\n",
              "      <th>22</th>\n",
              "      <th>0.02 km</th>\n",
              "      <th>1:25 hr</th>\n",
              "      <th>151</th>\n",
              "      <td>1</td>\n",
              "    </tr>\n",
              "    <tr>\n",
              "      <th>...</th>\n",
              "      <th>...</th>\n",
              "      <th>...</th>\n",
              "      <th>...</th>\n",
              "      <th>...</th>\n",
              "      <td>...</td>\n",
              "    </tr>\n",
              "    <tr>\n",
              "      <th>3/25/2021</th>\n",
              "      <th>2566</th>\n",
              "      <th>1.87 km</th>\n",
              "      <th>38:38 min</th>\n",
              "      <th>113</th>\n",
              "      <td>1</td>\n",
              "    </tr>\n",
              "    <tr>\n",
              "      <th>3/24/2022</th>\n",
              "      <th>2921</th>\n",
              "      <th>2.09 km</th>\n",
              "      <th>48:08 min</th>\n",
              "      <th>132</th>\n",
              "      <td>1</td>\n",
              "    </tr>\n",
              "    <tr>\n",
              "      <th>3/24/2021</th>\n",
              "      <th>779</th>\n",
              "      <th>0.58 km</th>\n",
              "      <th>13:08 min</th>\n",
              "      <th>36</th>\n",
              "      <td>1</td>\n",
              "    </tr>\n",
              "    <tr>\n",
              "      <th>3/23/2022</th>\n",
              "      <th>2593</th>\n",
              "      <th>1.81 km</th>\n",
              "      <th>42:31 min</th>\n",
              "      <th>115</th>\n",
              "      <td>1</td>\n",
              "    </tr>\n",
              "    <tr>\n",
              "      <th>9/9/2022</th>\n",
              "      <th>7182</th>\n",
              "      <th>5.32 km</th>\n",
              "      <th>1:18 hr</th>\n",
              "      <th>307</th>\n",
              "      <td>1</td>\n",
              "    </tr>\n",
              "  </tbody>\n",
              "</table>\n",
              "<p>526 rows × 1 columns</p>\n",
              "</div><br><label><b>dtype:</b> int64</label>"
            ]
          },
          "metadata": {},
          "execution_count": 42
        }
      ]
    },
    {
      "cell_type": "markdown",
      "source": [
        "Es gibt 526 Reihen und 5 Spalten."
      ],
      "metadata": {
        "id": "v4TFENwV-Wlk"
      }
    },
    {
      "cell_type": "code",
      "source": [
        "df.describe() #Statistischer Bericht für numerische Variablen\n"
      ],
      "metadata": {
        "colab": {
          "base_uri": "https://localhost:8080/",
          "height": 300
        },
        "id": "hw_bacJ4_Atv",
        "outputId": "e40aeffa-8312-4546-d92b-bad13f1ee61b"
      },
      "execution_count": 43,
      "outputs": [
        {
          "output_type": "execute_result",
          "data": {
            "text/plain": [
              "       Step Count  Calories\n",
              "count      526.00    526.00\n",
              "mean      3174.40    142.87\n",
              "std       2680.44    117.17\n",
              "min          0.00      0.00\n",
              "25%       1296.75     60.00\n",
              "50%       2366.50    108.00\n",
              "75%       4369.75    191.00\n",
              "max      12432.00    595.00"
            ],
            "text/html": [
              "\n",
              "  <div id=\"df-c3274c05-b423-45a6-b239-f336ac362a0e\" class=\"colab-df-container\">\n",
              "    <div>\n",
              "<style scoped>\n",
              "    .dataframe tbody tr th:only-of-type {\n",
              "        vertical-align: middle;\n",
              "    }\n",
              "\n",
              "    .dataframe tbody tr th {\n",
              "        vertical-align: top;\n",
              "    }\n",
              "\n",
              "    .dataframe thead th {\n",
              "        text-align: right;\n",
              "    }\n",
              "</style>\n",
              "<table border=\"1\" class=\"dataframe\">\n",
              "  <thead>\n",
              "    <tr style=\"text-align: right;\">\n",
              "      <th></th>\n",
              "      <th>Step Count</th>\n",
              "      <th>Calories</th>\n",
              "    </tr>\n",
              "  </thead>\n",
              "  <tbody>\n",
              "    <tr>\n",
              "      <th>count</th>\n",
              "      <td>526.00</td>\n",
              "      <td>526.00</td>\n",
              "    </tr>\n",
              "    <tr>\n",
              "      <th>mean</th>\n",
              "      <td>3174.40</td>\n",
              "      <td>142.87</td>\n",
              "    </tr>\n",
              "    <tr>\n",
              "      <th>std</th>\n",
              "      <td>2680.44</td>\n",
              "      <td>117.17</td>\n",
              "    </tr>\n",
              "    <tr>\n",
              "      <th>min</th>\n",
              "      <td>0.00</td>\n",
              "      <td>0.00</td>\n",
              "    </tr>\n",
              "    <tr>\n",
              "      <th>25%</th>\n",
              "      <td>1296.75</td>\n",
              "      <td>60.00</td>\n",
              "    </tr>\n",
              "    <tr>\n",
              "      <th>50%</th>\n",
              "      <td>2366.50</td>\n",
              "      <td>108.00</td>\n",
              "    </tr>\n",
              "    <tr>\n",
              "      <th>75%</th>\n",
              "      <td>4369.75</td>\n",
              "      <td>191.00</td>\n",
              "    </tr>\n",
              "    <tr>\n",
              "      <th>max</th>\n",
              "      <td>12432.00</td>\n",
              "      <td>595.00</td>\n",
              "    </tr>\n",
              "  </tbody>\n",
              "</table>\n",
              "</div>\n",
              "    <div class=\"colab-df-buttons\">\n",
              "\n",
              "  <div class=\"colab-df-container\">\n",
              "    <button class=\"colab-df-convert\" onclick=\"convertToInteractive('df-c3274c05-b423-45a6-b239-f336ac362a0e')\"\n",
              "            title=\"Convert this dataframe to an interactive table.\"\n",
              "            style=\"display:none;\">\n",
              "\n",
              "  <svg xmlns=\"http://www.w3.org/2000/svg\" height=\"24px\" viewBox=\"0 -960 960 960\">\n",
              "    <path d=\"M120-120v-720h720v720H120Zm60-500h600v-160H180v160Zm220 220h160v-160H400v160Zm0 220h160v-160H400v160ZM180-400h160v-160H180v160Zm440 0h160v-160H620v160ZM180-180h160v-160H180v160Zm440 0h160v-160H620v160Z\"/>\n",
              "  </svg>\n",
              "    </button>\n",
              "\n",
              "  <style>\n",
              "    .colab-df-container {\n",
              "      display:flex;\n",
              "      gap: 12px;\n",
              "    }\n",
              "\n",
              "    .colab-df-convert {\n",
              "      background-color: #E8F0FE;\n",
              "      border: none;\n",
              "      border-radius: 50%;\n",
              "      cursor: pointer;\n",
              "      display: none;\n",
              "      fill: #1967D2;\n",
              "      height: 32px;\n",
              "      padding: 0 0 0 0;\n",
              "      width: 32px;\n",
              "    }\n",
              "\n",
              "    .colab-df-convert:hover {\n",
              "      background-color: #E2EBFA;\n",
              "      box-shadow: 0px 1px 2px rgba(60, 64, 67, 0.3), 0px 1px 3px 1px rgba(60, 64, 67, 0.15);\n",
              "      fill: #174EA6;\n",
              "    }\n",
              "\n",
              "    .colab-df-buttons div {\n",
              "      margin-bottom: 4px;\n",
              "    }\n",
              "\n",
              "    [theme=dark] .colab-df-convert {\n",
              "      background-color: #3B4455;\n",
              "      fill: #D2E3FC;\n",
              "    }\n",
              "\n",
              "    [theme=dark] .colab-df-convert:hover {\n",
              "      background-color: #434B5C;\n",
              "      box-shadow: 0px 1px 3px 1px rgba(0, 0, 0, 0.15);\n",
              "      filter: drop-shadow(0px 1px 2px rgba(0, 0, 0, 0.3));\n",
              "      fill: #FFFFFF;\n",
              "    }\n",
              "  </style>\n",
              "\n",
              "    <script>\n",
              "      const buttonEl =\n",
              "        document.querySelector('#df-c3274c05-b423-45a6-b239-f336ac362a0e button.colab-df-convert');\n",
              "      buttonEl.style.display =\n",
              "        google.colab.kernel.accessAllowed ? 'block' : 'none';\n",
              "\n",
              "      async function convertToInteractive(key) {\n",
              "        const element = document.querySelector('#df-c3274c05-b423-45a6-b239-f336ac362a0e');\n",
              "        const dataTable =\n",
              "          await google.colab.kernel.invokeFunction('convertToInteractive',\n",
              "                                                    [key], {});\n",
              "        if (!dataTable) return;\n",
              "\n",
              "        const docLinkHtml = 'Like what you see? Visit the ' +\n",
              "          '<a target=\"_blank\" href=https://colab.research.google.com/notebooks/data_table.ipynb>data table notebook</a>'\n",
              "          + ' to learn more about interactive tables.';\n",
              "        element.innerHTML = '';\n",
              "        dataTable['output_type'] = 'display_data';\n",
              "        await google.colab.output.renderOutput(dataTable, element);\n",
              "        const docLink = document.createElement('div');\n",
              "        docLink.innerHTML = docLinkHtml;\n",
              "        element.appendChild(docLink);\n",
              "      }\n",
              "    </script>\n",
              "  </div>\n",
              "\n",
              "\n",
              "<div id=\"df-a60b46c5-9d7a-46f3-beac-c7143a8f478e\">\n",
              "  <button class=\"colab-df-quickchart\" onclick=\"quickchart('df-a60b46c5-9d7a-46f3-beac-c7143a8f478e')\"\n",
              "            title=\"Suggest charts\"\n",
              "            style=\"display:none;\">\n",
              "\n",
              "<svg xmlns=\"http://www.w3.org/2000/svg\" height=\"24px\"viewBox=\"0 0 24 24\"\n",
              "     width=\"24px\">\n",
              "    <g>\n",
              "        <path d=\"M19 3H5c-1.1 0-2 .9-2 2v14c0 1.1.9 2 2 2h14c1.1 0 2-.9 2-2V5c0-1.1-.9-2-2-2zM9 17H7v-7h2v7zm4 0h-2V7h2v10zm4 0h-2v-4h2v4z\"/>\n",
              "    </g>\n",
              "</svg>\n",
              "  </button>\n",
              "\n",
              "<style>\n",
              "  .colab-df-quickchart {\n",
              "      --bg-color: #E8F0FE;\n",
              "      --fill-color: #1967D2;\n",
              "      --hover-bg-color: #E2EBFA;\n",
              "      --hover-fill-color: #174EA6;\n",
              "      --disabled-fill-color: #AAA;\n",
              "      --disabled-bg-color: #DDD;\n",
              "  }\n",
              "\n",
              "  [theme=dark] .colab-df-quickchart {\n",
              "      --bg-color: #3B4455;\n",
              "      --fill-color: #D2E3FC;\n",
              "      --hover-bg-color: #434B5C;\n",
              "      --hover-fill-color: #FFFFFF;\n",
              "      --disabled-bg-color: #3B4455;\n",
              "      --disabled-fill-color: #666;\n",
              "  }\n",
              "\n",
              "  .colab-df-quickchart {\n",
              "    background-color: var(--bg-color);\n",
              "    border: none;\n",
              "    border-radius: 50%;\n",
              "    cursor: pointer;\n",
              "    display: none;\n",
              "    fill: var(--fill-color);\n",
              "    height: 32px;\n",
              "    padding: 0;\n",
              "    width: 32px;\n",
              "  }\n",
              "\n",
              "  .colab-df-quickchart:hover {\n",
              "    background-color: var(--hover-bg-color);\n",
              "    box-shadow: 0 1px 2px rgba(60, 64, 67, 0.3), 0 1px 3px 1px rgba(60, 64, 67, 0.15);\n",
              "    fill: var(--button-hover-fill-color);\n",
              "  }\n",
              "\n",
              "  .colab-df-quickchart-complete:disabled,\n",
              "  .colab-df-quickchart-complete:disabled:hover {\n",
              "    background-color: var(--disabled-bg-color);\n",
              "    fill: var(--disabled-fill-color);\n",
              "    box-shadow: none;\n",
              "  }\n",
              "\n",
              "  .colab-df-spinner {\n",
              "    border: 2px solid var(--fill-color);\n",
              "    border-color: transparent;\n",
              "    border-bottom-color: var(--fill-color);\n",
              "    animation:\n",
              "      spin 1s steps(1) infinite;\n",
              "  }\n",
              "\n",
              "  @keyframes spin {\n",
              "    0% {\n",
              "      border-color: transparent;\n",
              "      border-bottom-color: var(--fill-color);\n",
              "      border-left-color: var(--fill-color);\n",
              "    }\n",
              "    20% {\n",
              "      border-color: transparent;\n",
              "      border-left-color: var(--fill-color);\n",
              "      border-top-color: var(--fill-color);\n",
              "    }\n",
              "    30% {\n",
              "      border-color: transparent;\n",
              "      border-left-color: var(--fill-color);\n",
              "      border-top-color: var(--fill-color);\n",
              "      border-right-color: var(--fill-color);\n",
              "    }\n",
              "    40% {\n",
              "      border-color: transparent;\n",
              "      border-right-color: var(--fill-color);\n",
              "      border-top-color: var(--fill-color);\n",
              "    }\n",
              "    60% {\n",
              "      border-color: transparent;\n",
              "      border-right-color: var(--fill-color);\n",
              "    }\n",
              "    80% {\n",
              "      border-color: transparent;\n",
              "      border-right-color: var(--fill-color);\n",
              "      border-bottom-color: var(--fill-color);\n",
              "    }\n",
              "    90% {\n",
              "      border-color: transparent;\n",
              "      border-bottom-color: var(--fill-color);\n",
              "    }\n",
              "  }\n",
              "</style>\n",
              "\n",
              "  <script>\n",
              "    async function quickchart(key) {\n",
              "      const quickchartButtonEl =\n",
              "        document.querySelector('#' + key + ' button');\n",
              "      quickchartButtonEl.disabled = true;  // To prevent multiple clicks.\n",
              "      quickchartButtonEl.classList.add('colab-df-spinner');\n",
              "      try {\n",
              "        const charts = await google.colab.kernel.invokeFunction(\n",
              "            'suggestCharts', [key], {});\n",
              "      } catch (error) {\n",
              "        console.error('Error during call to suggestCharts:', error);\n",
              "      }\n",
              "      quickchartButtonEl.classList.remove('colab-df-spinner');\n",
              "      quickchartButtonEl.classList.add('colab-df-quickchart-complete');\n",
              "    }\n",
              "    (() => {\n",
              "      let quickchartButtonEl =\n",
              "        document.querySelector('#df-a60b46c5-9d7a-46f3-beac-c7143a8f478e button');\n",
              "      quickchartButtonEl.style.display =\n",
              "        google.colab.kernel.accessAllowed ? 'block' : 'none';\n",
              "    })();\n",
              "  </script>\n",
              "</div>\n",
              "\n",
              "    </div>\n",
              "  </div>\n"
            ],
            "application/vnd.google.colaboratory.intrinsic+json": {
              "type": "dataframe",
              "summary": "{\n  \"name\": \"df\",\n  \"rows\": 8,\n  \"fields\": [\n    {\n      \"column\": \"Step Count\",\n      \"properties\": {\n        \"dtype\": \"number\",\n        \"std\": 3934.8639053071397,\n        \"min\": 0.0,\n        \"max\": 12432.0,\n        \"num_unique_values\": 8,\n        \"samples\": [\n          3174.403041825095,\n          2366.5,\n          526.0\n        ],\n        \"semantic_type\": \"\",\n        \"description\": \"\"\n      }\n    },\n    {\n      \"column\": \"Calories\",\n      \"properties\": {\n        \"dtype\": \"number\",\n        \"std\": 219.7790469816451,\n        \"min\": 0.0,\n        \"max\": 595.0,\n        \"num_unique_values\": 8,\n        \"samples\": [\n          142.86692015209127,\n          108.0,\n          526.0\n        ],\n        \"semantic_type\": \"\",\n        \"description\": \"\"\n      }\n    }\n  ]\n}"
            }
          },
          "metadata": {},
          "execution_count": 43
        }
      ]
    },
    {
      "cell_type": "code",
      "source": [
        "df.isnull().values.any() # Keine fehlenden Werte\n"
      ],
      "metadata": {
        "colab": {
          "base_uri": "https://localhost:8080/"
        },
        "id": "_Ubu5TiTCSwx",
        "outputId": "1008a68b-9ad7-435e-ab28-7d80c8304f37"
      },
      "execution_count": 44,
      "outputs": [
        {
          "output_type": "execute_result",
          "data": {
            "text/plain": [
              "False"
            ]
          },
          "metadata": {},
          "execution_count": 44
        }
      ]
    },
    {
      "cell_type": "markdown",
      "source": [
        "Analyse kategorialer Variablen"
      ],
      "metadata": {
        "id": "-gi21LMxjmkK"
      }
    },
    {
      "cell_type": "code",
      "source": [
        "df.select_dtypes(include = \"object\").columns"
      ],
      "metadata": {
        "colab": {
          "base_uri": "https://localhost:8080/"
        },
        "id": "69wT9mVgiaZa",
        "outputId": "ac4098ad-f45f-471b-aea4-009c92c998d0"
      },
      "execution_count": 45,
      "outputs": [
        {
          "output_type": "execute_result",
          "data": {
            "text/plain": [
              "Index(['Date', 'Distance Travelled', 'Active Time'], dtype='object')"
            ]
          },
          "metadata": {},
          "execution_count": 45
        }
      ]
    },
    {
      "cell_type": "code",
      "source": [
        "len(df.select_dtypes(include = \"object\").columns) #Überprüfen der Anzahl der kategorialen Variablen"
      ],
      "metadata": {
        "colab": {
          "base_uri": "https://localhost:8080/"
        },
        "id": "kO8-RzGmkTbv",
        "outputId": "48177ed7-6cd8-47b5-a4f1-d705f91e1a97"
      },
      "execution_count": 46,
      "outputs": [
        {
          "output_type": "execute_result",
          "data": {
            "text/plain": [
              "3"
            ]
          },
          "metadata": {},
          "execution_count": 46
        }
      ]
    },
    {
      "cell_type": "markdown",
      "source": [
        "Die Daten enthalten 3 categorical Variablen"
      ],
      "metadata": {
        "id": "BT1YudsLklqD"
      }
    },
    {
      "cell_type": "markdown",
      "source": [
        "Numerische Variablenanalyse"
      ],
      "metadata": {
        "id": "X6o5oHWMk9HZ"
      }
    },
    {
      "cell_type": "code",
      "source": [
        "number_df = df.select_dtypes(include=\"number\")"
      ],
      "metadata": {
        "id": "QkrnpZYpkb7p"
      },
      "execution_count": 47,
      "outputs": []
    },
    {
      "cell_type": "code",
      "source": [
        "number_df.columns"
      ],
      "metadata": {
        "colab": {
          "base_uri": "https://localhost:8080/"
        },
        "id": "oKlnvX1olNCh",
        "outputId": "bacea903-581c-4ada-89a2-6fcdb334076c"
      },
      "execution_count": 48,
      "outputs": [
        {
          "output_type": "execute_result",
          "data": {
            "text/plain": [
              "Index(['Step Count', 'Calories'], dtype='object')"
            ]
          },
          "metadata": {},
          "execution_count": 48
        }
      ]
    },
    {
      "cell_type": "code",
      "source": [
        "len(number_df.columns) # Überprüfen der Anzahl der numerischen Variablen"
      ],
      "metadata": {
        "colab": {
          "base_uri": "https://localhost:8080/"
        },
        "id": "M0J2h3sHlNqo",
        "outputId": "bacf187f-caf7-4dba-b385-5215d4f53bf2"
      },
      "execution_count": 49,
      "outputs": [
        {
          "output_type": "execute_result",
          "data": {
            "text/plain": [
              "2"
            ]
          },
          "metadata": {},
          "execution_count": 49
        }
      ]
    },
    {
      "cell_type": "markdown",
      "source": [
        "Die Daten enthalten 2 numerical Variablen"
      ],
      "metadata": {
        "id": "agGymW3NmP7E"
      }
    },
    {
      "cell_type": "markdown",
      "source": [
        "Umgang mit fehlenden Werten"
      ],
      "metadata": {
        "id": "uBsoCycWm2RT"
      }
    },
    {
      "cell_type": "code",
      "source": [
        "df.isnull().values.any() # Keine fehlenden Werte\n"
      ],
      "metadata": {
        "colab": {
          "base_uri": "https://localhost:8080/"
        },
        "outputId": "6d38ec47-a70a-44de-c392-9879f599d30f",
        "id": "00esEW_unNbn"
      },
      "execution_count": 50,
      "outputs": [
        {
          "output_type": "execute_result",
          "data": {
            "text/plain": [
              "False"
            ]
          },
          "metadata": {},
          "execution_count": 50
        }
      ]
    },
    {
      "cell_type": "markdown",
      "source": [],
      "metadata": {
        "id": "RCXbeae5nfmO"
      }
    },
    {
      "cell_type": "code",
      "source": [
        "df['Date'] = pd.to_datetime(df['Date'], format='%m/%d/%Y') # Datumskonvertierung"
      ],
      "metadata": {
        "id": "7WMbWBm2nouE"
      },
      "execution_count": 51,
      "outputs": []
    },
    {
      "cell_type": "code",
      "source": [
        "df['Distance Travelled'] = df['Distance Travelled'].str.replace(' km', '').astype(float) # Entfernungskonventierung"
      ],
      "metadata": {
        "id": "QokTvP6t_AGJ"
      },
      "execution_count": 52,
      "outputs": []
    },
    {
      "cell_type": "code",
      "source": [
        "def convert_active_time(active_time):   # # Funktion zur Zeitumrechnung\n",
        "    active_time = active_time.strip()  # Entfernen unnötiger Leerzeichen\n",
        "    if 'hr' in active_time:\n",
        "        #  Verarbeitung von Format \"Stunden.Minuten hr\" oder \"Stunden:Minuten hr\"\n",
        "        active_time = active_time.replace(' hr', '')\n",
        "        if ':' in active_time:\n",
        "            hours, minutes = map(float, active_time.split(':'))\n",
        "        else:\n",
        "            hours, minutes = map(float, active_time.split('.'))\n",
        "        return hours * 60 + minutes  # In Minuten umrechnen\n",
        "    elif 'min' in active_time:\n",
        "        #  Verarbeitung von Format \"Minuten:Sekunden min\" oder \"Minuten min\"\n",
        "        if ':' in active_time:\n",
        "            parts = active_time.replace(' min', '').split(':')\n",
        "            minutes = float(parts[0])  # Anzahl der Minuten\n",
        "            seconds = float(parts[1]) if len(parts) > 1 else 0  # Anzahl der Sekunden, falls angegeben\n",
        "            return minutes + seconds / 60  # In Minuten umrechnen\n",
        "        else:\n",
        "            # Wenn Format nur \"Minuten min\" ist\n",
        "            return float(active_time.replace(' min', ''))\n",
        "    return 0  # Falls Format ist unbekannt"
      ],
      "metadata": {
        "id": "V_5Pu4I1_bhy"
      },
      "execution_count": 53,
      "outputs": []
    },
    {
      "cell_type": "code",
      "source": [
        "df['active_time'] = df['Active Time'].apply(convert_active_time) # Verwenden von der Funktion"
      ],
      "metadata": {
        "id": "mowX1sUrBatn"
      },
      "execution_count": 54,
      "outputs": []
    },
    {
      "cell_type": "code",
      "source": [
        "df.info(verbose = True, show_counts=True) #checken welche Datatypes gibt es in df nach den Änderungen"
      ],
      "metadata": {
        "colab": {
          "base_uri": "https://localhost:8080/"
        },
        "id": "pgg7MWiZHGWH",
        "outputId": "22ac4178-8987-451c-a55b-2ec7c5a1f2d5"
      },
      "execution_count": 55,
      "outputs": [
        {
          "output_type": "stream",
          "name": "stdout",
          "text": [
            "<class 'pandas.core.frame.DataFrame'>\n",
            "RangeIndex: 526 entries, 0 to 525\n",
            "Data columns (total 6 columns):\n",
            " #   Column              Non-Null Count  Dtype         \n",
            "---  ------              --------------  -----         \n",
            " 0   Date                526 non-null    datetime64[ns]\n",
            " 1   Step Count          526 non-null    int64         \n",
            " 2   Distance Travelled  526 non-null    float64       \n",
            " 3   Active Time         526 non-null    object        \n",
            " 4   Calories            526 non-null    int64         \n",
            " 5   active_time         526 non-null    float64       \n",
            "dtypes: datetime64[ns](1), float64(2), int64(2), object(1)\n",
            "memory usage: 24.8+ KB\n"
          ]
        }
      ]
    },
    {
      "cell_type": "markdown",
      "source": [
        "Korrelation:"
      ],
      "metadata": {
        "id": "EzvXaZRjHim9"
      }
    },
    {
      "cell_type": "code",
      "source": [
        "correlation_matrix = df[['Step Count', 'Calories', 'active_time', 'Distance Travelled']].corr()\n",
        "print(correlation_matrix)"
      ],
      "metadata": {
        "colab": {
          "base_uri": "https://localhost:8080/"
        },
        "id": "BaCMyo8oH4tl",
        "outputId": "c40eaaf6-7765-405e-807f-0648d0af06f9"
      },
      "execution_count": 56,
      "outputs": [
        {
          "output_type": "stream",
          "name": "stdout",
          "text": [
            "                    Step Count  Calories  active_time  Distance Travelled\n",
            "Step Count                1.00      0.98         0.92                1.00\n",
            "Calories                  0.98      1.00         0.96                0.98\n",
            "active_time               0.92      0.96         1.00                0.91\n",
            "Distance Travelled        1.00      0.98         0.91                1.00\n"
          ]
        }
      ]
    },
    {
      "cell_type": "code",
      "source": [
        "plt.figure(figsize=(10, 6))\n",
        "sns.heatmap(correlation_matrix, annot=True, fmt='.2f', cmap='coolwarm')\n",
        "plt.title('Correlation Matrix')\n",
        "plt.show()"
      ],
      "metadata": {
        "colab": {
          "base_uri": "https://localhost:8080/",
          "height": 545
        },
        "id": "sojLBXUuL6xA",
        "outputId": "d999bee3-41f2-4063-b807-03912a9c02cf"
      },
      "execution_count": 57,
      "outputs": [
        {
          "output_type": "display_data",
          "data": {
            "text/plain": [
              "<Figure size 1000x600 with 2 Axes>"
            ],
            "image/png": "[encoded data removed]"
          },
          "metadata": {}
        }
      ]
    },
    {
      "cell_type": "markdown",
      "source": [
        "## Auf der Suche nach Korrelationen"
      ],
      "metadata": {
        "id": "h4QdzR-H24aR"
      }
    },
    {
      "cell_type": "code",
      "source": [
        "corr_matrix = df.corr(numeric_only=True)"
      ],
      "metadata": {
        "id": "UYC-wcco2s_m"
      },
      "execution_count": 58,
      "outputs": []
    },
    {
      "cell_type": "code",
      "source": [
        "corr_matrix[\"Step Count\"].sort_values(ascending=False)"
      ],
      "metadata": {
        "colab": {
          "base_uri": "https://localhost:8080/",
          "height": 209
        },
        "id": "ZWenSmRq3IYy",
        "outputId": "59341dba-cd3d-41d6-a92c-65144e9dc7a5"
      },
      "execution_count": 59,
      "outputs": [
        {
          "output_type": "execute_result",
          "data": {
            "text/plain": [
              "Step Count           1.00\n",
              "Distance Travelled   1.00\n",
              "Calories             0.98\n",
              "active_time          0.92\n",
              "Name: Step Count, dtype: float64"
            ],
            "text/html": [
              "<div>\n",
              "<style scoped>\n",
              "    .dataframe tbody tr th:only-of-type {\n",
              "        vertical-align: middle;\n",
              "    }\n",
              "\n",
              "    .dataframe tbody tr th {\n",
              "        vertical-align: top;\n",
              "    }\n",
              "\n",
              "    .dataframe thead th {\n",
              "        text-align: right;\n",
              "    }\n",
              "</style>\n",
              "<table border=\"1\" class=\"dataframe\">\n",
              "  <thead>\n",
              "    <tr style=\"text-align: right;\">\n",
              "      <th></th>\n",
              "      <th>Step Count</th>\n",
              "    </tr>\n",
              "  </thead>\n",
              "  <tbody>\n",
              "    <tr>\n",
              "      <th>Step Count</th>\n",
              "      <td>1.00</td>\n",
              "    </tr>\n",
              "    <tr>\n",
              "      <th>Distance Travelled</th>\n",
              "      <td>1.00</td>\n",
              "    </tr>\n",
              "    <tr>\n",
              "      <th>Calories</th>\n",
              "      <td>0.98</td>\n",
              "    </tr>\n",
              "    <tr>\n",
              "      <th>active_time</th>\n",
              "      <td>0.92</td>\n",
              "    </tr>\n",
              "  </tbody>\n",
              "</table>\n",
              "</div><br><label><b>dtype:</b> float64</label>"
            ]
          },
          "metadata": {},
          "execution_count": 59
        }
      ]
    },
    {
      "cell_type": "code",
      "source": [
        "from pandas.plotting import scatter_matrix\n",
        "\n",
        "attributes = [\"Step Count\", \"Calories\", \"active_time\",\n",
        "              \"Distance Travelled\"]\n",
        "scatter_matrix(df[attributes], figsize=(12, 8))\n",
        "plt.show()"
      ],
      "metadata": {
        "colab": {
          "base_uri": "https://localhost:8080/",
          "height": 717
        },
        "id": "qbKEWtWH3jpp",
        "outputId": "cd8b3592-8947-40a5-c9fe-b75626c6a1aa"
      },
      "execution_count": 60,
      "outputs": [
        {
          "output_type": "display_data",
          "data": {
            "text/plain": [
              "<Figure size 1200x800 with 16 Axes>"
            ],
            "image/png": "[encoded data removed]"
          },
          "metadata": {}
        }
      ]
    },
    {
      "cell_type": "code",
      "source": [
        "# Konvertierung der Spalte mit dem Datum\n",
        "df['Date'] = pd.to_datetime(df['Date'])"
      ],
      "metadata": {
        "id": "SoybuKk37_Nw"
      },
      "execution_count": 61,
      "outputs": []
    },
    {
      "cell_type": "code",
      "source": [
        "# Hinzufügen von Spalten für Monat, Wochentag und Jahreszeit\n",
        "df['Month'] = df['Date'].dt.month\n",
        "df['Weekday'] = df['Date'].dt.day_name()"
      ],
      "metadata": {
        "id": "tP9AZ6X18HT4"
      },
      "execution_count": 62,
      "outputs": []
    },
    {
      "cell_type": "code",
      "source": [
        "# Funktion zur Bestimmung der Jahreszeit\n",
        "def get_season(month):\n",
        "    if month in [12, 1, 2]:\n",
        "        return 'Winter'\n",
        "    elif month in [3, 4, 5]:\n",
        "        return 'Frühling'\n",
        "    elif month in [6, 7, 8]:\n",
        "        return 'Sommer'\n",
        "    else:\n",
        "        return 'Herbst'"
      ],
      "metadata": {
        "id": "5mdvhFsz8MIP"
      },
      "execution_count": 63,
      "outputs": []
    },
    {
      "cell_type": "code",
      "source": [
        "df['Season'] = df['Month'].apply(get_season)"
      ],
      "metadata": {
        "id": "XBOagl7k8UIz"
      },
      "execution_count": 64,
      "outputs": []
    },
    {
      "cell_type": "code",
      "source": [],
      "metadata": {
        "id": "lla_Dr8jQw_d"
      },
      "execution_count": 64,
      "outputs": []
    },
    {
      "cell_type": "code",
      "source": [
        "# Durchschnittswerte nach Jahreszeit\n",
        "seasonal_avg = df.groupby('Season')[['Step Count', 'Distance Travelled', 'active_time', 'Calories']].mean()"
      ],
      "metadata": {
        "id": "m_oK_p-L8bOY"
      },
      "execution_count": 65,
      "outputs": []
    },
    {
      "cell_type": "code",
      "source": [
        "# Durchschnittswerte nach Wochentagen und Wochenenden\n",
        "df['IsWeekend'] = df['Weekday'].isin(['Saturday', 'Sunday'])\n",
        "weekday_avg = df.groupby('IsWeekend')[['Step Count', 'Distance Travelled', 'active_time', 'Calories']].mean()"
      ],
      "metadata": {
        "id": "HFhbFUk68n92"
      },
      "execution_count": 66,
      "outputs": []
    },
    {
      "cell_type": "code",
      "source": [
        "# Visualisierung\n",
        "seasonal_avg.plot(kind='bar', title='Durchschnittliche Aktivität nach Jahreszeit')\n",
        "plt.show()"
      ],
      "metadata": {
        "colab": {
          "base_uri": "https://localhost:8080/",
          "height": 516
        },
        "id": "tgX4BbCS81d-",
        "outputId": "c9ca11e8-faf7-43b7-9155-428e6816b964"
      },
      "execution_count": 67,
      "outputs": [
        {
          "output_type": "display_data",
          "data": {
            "text/plain": [
              "<Figure size 640x480 with 1 Axes>"
            ],
            "image/png": "[encoded data removed]"
          },
          "metadata": {}
        }
      ]
    },
    {
      "cell_type": "code",
      "source": [
        "weekday_avg.plot(kind='bar', title='Durchschnittliche Aktivität an Wochentagen und Wochenenden')\n",
        "plt.show()"
      ],
      "metadata": {
        "colab": {
          "base_uri": "https://localhost:8080/",
          "height": 493
        },
        "id": "DSnfMPV19EK6",
        "outputId": "80d4eea2-501c-4165-9b14-876135444bb0"
      },
      "execution_count": 68,
      "outputs": [
        {
          "output_type": "display_data",
          "data": {
            "text/plain": [
              "<Figure size 640x480 with 1 Axes>"
            ],
            "image/png": "[encoded data removed]"
          },
          "metadata": {}
        }
      ]
    },
    {
      "cell_type": "markdown",
      "source": [],
      "metadata": {
        "id": "n3hZes128lm5"
      }
    }
  ]
}